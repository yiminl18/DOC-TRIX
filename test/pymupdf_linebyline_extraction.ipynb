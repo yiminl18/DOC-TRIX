{
 "cells": [
  {
   "cell_type": "markdown",
   "id": "3a79ed7f-dacb-4288-97aa-879014ab9fb8",
   "metadata": {},
   "source": [
    "### Line-by-Line Extraction with PyMuPDF"
   ]
  },
  {
   "cell_type": "code",
   "execution_count": 1,
   "id": "82d37a5d-d242-41c0-8182-cadaeedca067",
   "metadata": {},
   "outputs": [],
   "source": [
    "import fitz\n",
    "import pandas as pd"
   ]
  },
  {
   "cell_type": "code",
   "execution_count": 11,
   "id": "1701322d-7528-4570-8b15-3fb9d702272d",
   "metadata": {},
   "outputs": [],
   "source": [
    "file_path = '/Users/yiminglin/Documents/Codebase/Pdf_reverse/data/raw/benchmark1/id_15.pdf'\n",
    "num_pages = 1"
   ]
  },
  {
   "cell_type": "code",
   "execution_count": 3,
   "id": "b4dfa579-c9bf-42a6-ac54-1ca0ae7b8217",
   "metadata": {},
   "outputs": [
    {
     "name": "stdout",
     "output_type": "stream",
     "text": [
      "Successfully opened: 253 pages\n"
     ]
    }
   ],
   "source": [
    "try:\n",
    "    doc = fitz.open(file_path)\n",
    "    print(f\"Successfully opened: {doc.page_count} pages\")\n",
    "except Exception as e:\n",
    "    print(f\"Error opening the PDF: {e}\")"
   ]
  },
  {
   "cell_type": "code",
   "execution_count": 4,
   "id": "038d0f7e-0df6-4bd2-9c4c-646729df849f",
   "metadata": {},
   "outputs": [],
   "source": [
    "# This was used for reference when testing the get_phrases() method.\n",
    "def get_lines(page):\n",
    "    return page.get_text('lines').split('\\n')"
   ]
  },
  {
   "cell_type": "code",
   "execution_count": 5,
   "id": "53f85e4d-0538-4981-8ae8-f71fbe54bdaa",
   "metadata": {},
   "outputs": [],
   "source": [
    "def get_words(page):\n",
    "    return [list(word_tuple) for word_tuple in page.get_text('words')]"
   ]
  },
  {
   "cell_type": "code",
   "execution_count": 13,
   "id": "4a06ad6c-abbf-4245-bcef-b6abf28e361a",
   "metadata": {},
   "outputs": [],
   "source": [
    "def get_phrases(page):\n",
    "    docs_by_words = get_words(page)\n",
    "    doc_by_phrases = []\n",
    "    cur_bbox, prev_line, cur_phrase = None, None, None\n",
    "    for word_info in docs_by_words[0]:\n",
    "        bbox, word, line = word_info[:4], word_info[4], word_info[5:7]\n",
    "        if line == prev_line:\n",
    "            cur_bbox[2:] = bbox[2:]\n",
    "            cur_phrase += ' ' + word\n",
    "        else:\n",
    "            if prev_line:\n",
    "                doc_by_phrases.append([cur_phrase]+cur_bbox)\n",
    "            cur_bbox = bbox\n",
    "            cur_phrase = word\n",
    "        prev_line = line\n",
    "    doc_by_phrases.append([cur_phrase]+cur_bbox)\n",
    "    return doc_by_phrases"
   ]
  },
  {
   "cell_type": "code",
   "execution_count": 14,
   "id": "789f3908-47b7-4928-964d-a56a114fce48",
   "metadata": {},
   "outputs": [
    {
     "ename": "TypeError",
     "evalue": "'float' object is not subscriptable",
     "output_type": "error",
     "traceback": [
      "\u001b[0;31m---------------------------------------------------------------------------\u001b[0m",
      "\u001b[0;31mTypeError\u001b[0m                                 Traceback (most recent call last)",
      "Input \u001b[0;32mIn [14]\u001b[0m, in \u001b[0;36m<module>\u001b[0;34m\u001b[0m\n\u001b[1;32m      1\u001b[0m phrases, pages \u001b[38;5;241m=\u001b[39m [], doc\u001b[38;5;241m.\u001b[39mpages(\u001b[38;5;241m0\u001b[39m,num_pages)\n\u001b[1;32m      2\u001b[0m \u001b[38;5;28;01mfor\u001b[39;00m i \u001b[38;5;129;01min\u001b[39;00m \u001b[38;5;28mrange\u001b[39m(num_pages):\n\u001b[0;32m----> 3\u001b[0m     phrases \u001b[38;5;241m+\u001b[39m\u001b[38;5;241m=\u001b[39m [[i\u001b[38;5;241m+\u001b[39m\u001b[38;5;241m1\u001b[39m]\u001b[38;5;241m+\u001b[39mphrase \u001b[38;5;28;01mfor\u001b[39;00m phrase \u001b[38;5;129;01min\u001b[39;00m \u001b[43mget_phrases\u001b[49m\u001b[43m(\u001b[49m\u001b[38;5;28;43mnext\u001b[39;49m\u001b[43m(\u001b[49m\u001b[43mpages\u001b[49m\u001b[43m)\u001b[49m\u001b[43m)\u001b[49m]\n",
      "Input \u001b[0;32mIn [13]\u001b[0m, in \u001b[0;36mget_phrases\u001b[0;34m(page)\u001b[0m\n\u001b[1;32m      4\u001b[0m cur_bbox, prev_line, cur_phrase \u001b[38;5;241m=\u001b[39m \u001b[38;5;28;01mNone\u001b[39;00m, \u001b[38;5;28;01mNone\u001b[39;00m, \u001b[38;5;28;01mNone\u001b[39;00m\n\u001b[1;32m      5\u001b[0m \u001b[38;5;28;01mfor\u001b[39;00m word_info \u001b[38;5;129;01min\u001b[39;00m docs_by_words[\u001b[38;5;241m0\u001b[39m]:\n\u001b[0;32m----> 6\u001b[0m     bbox, word, line \u001b[38;5;241m=\u001b[39m \u001b[43mword_info\u001b[49m\u001b[43m[\u001b[49m\u001b[43m:\u001b[49m\u001b[38;5;241;43m4\u001b[39;49m\u001b[43m]\u001b[49m, word_info[\u001b[38;5;241m4\u001b[39m], word_info[\u001b[38;5;241m5\u001b[39m:\u001b[38;5;241m7\u001b[39m]\n\u001b[1;32m      7\u001b[0m     \u001b[38;5;28;01mif\u001b[39;00m line \u001b[38;5;241m==\u001b[39m prev_line:\n\u001b[1;32m      8\u001b[0m         cur_bbox[\u001b[38;5;241m2\u001b[39m:] \u001b[38;5;241m=\u001b[39m bbox[\u001b[38;5;241m2\u001b[39m:]\n",
      "\u001b[0;31mTypeError\u001b[0m: 'float' object is not subscriptable"
     ]
    }
   ],
   "source": [
    "phrases, pages = [], doc.pages(0,num_pages)\n",
    "for i in range(num_pages):\n",
    "    phrases += [[i+1]+phrase for phrase in get_phrases(next(pages))]"
   ]
  },
  {
   "cell_type": "code",
   "execution_count": 10,
   "id": "4c2186f7-2a56-4a94-a973-42470f5bb2ee",
   "metadata": {},
   "outputs": [
    {
     "data": {
      "text/html": [
       "<div>\n",
       "<style scoped>\n",
       "    .dataframe tbody tr th:only-of-type {\n",
       "        vertical-align: middle;\n",
       "    }\n",
       "\n",
       "    .dataframe tbody tr th {\n",
       "        vertical-align: top;\n",
       "    }\n",
       "\n",
       "    .dataframe thead th {\n",
       "        text-align: right;\n",
       "    }\n",
       "</style>\n",
       "<table border=\"1\" class=\"dataframe\">\n",
       "  <thead>\n",
       "    <tr style=\"text-align: right;\">\n",
       "      <th></th>\n",
       "      <th>Page</th>\n",
       "      <th>Phrase</th>\n",
       "      <th>x0</th>\n",
       "      <th>y0</th>\n",
       "      <th>x1</th>\n",
       "      <th>y1</th>\n",
       "    </tr>\n",
       "  </thead>\n",
       "  <tbody>\n",
       "  </tbody>\n",
       "</table>\n",
       "</div>"
      ],
      "text/plain": [
       "Empty DataFrame\n",
       "Columns: [Page, Phrase, x0, y0, x1, y1]\n",
       "Index: []"
      ]
     },
     "execution_count": 10,
     "metadata": {},
     "output_type": "execute_result"
    }
   ],
   "source": [
    "phrases_df = pd.DataFrame(phrases, columns=['Page', 'Phrase', 'x0', 'y0', 'x1', 'y1'])\n",
    "phrases_df"
   ]
  },
  {
   "cell_type": "code",
   "execution_count": 134,
   "id": "79d1618a-1670-41ed-9b4a-805838a1ce87",
   "metadata": {},
   "outputs": [],
   "source": [
    "phrases_df.to_csv(file_path.split('/')[-1][:-4]+'_phrases.csv')"
   ]
  }
 ],
 "metadata": {
  "kernelspec": {
   "display_name": "Python 3 (ipykernel)",
   "language": "python",
   "name": "python3"
  },
  "language_info": {
   "codemirror_mode": {
    "name": "ipython",
    "version": 3
   },
   "file_extension": ".py",
   "mimetype": "text/x-python",
   "name": "python",
   "nbconvert_exporter": "python",
   "pygments_lexer": "ipython3",
   "version": "3.9.7"
  }
 },
 "nbformat": 4,
 "nbformat_minor": 5
}
