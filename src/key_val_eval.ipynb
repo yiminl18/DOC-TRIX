{
 "cells": [
  {
   "cell_type": "code",
   "execution_count": null,
   "metadata": {},
   "outputs": [],
   "source": []
  },
  {
   "cell_type": "markdown",
   "metadata": {},
   "source": [
    "0.864406779661017 0.9615384615384616\n",
    "FP:\n",
    "('university of illinois police department', '')\n",
    "('officer detail reports #a-12', '')\n",
    "('hgt', '/')\n",
    "('report criteria', 'incidents between')\n",
    "('narrative', 'officers from the street crimes task force executed a search warrant and subject fled from scene.')\n",
    "('officer snow pointed firearm at the suspect and directed him to get on the ground and suspect complied.', 'suspect was taken into custody without further')\n",
    "('l.e.a. data technologies', 'administrative database')\n",
    "('incidents between', '')\n",
    "FN:\n",
    "('hgt', '')\n",
    "('narrative', 'officers from the street crimes task force executed a search warrant and subject fled from scene. officers pursued on foot and officer snow located subject in a parking lot. officer snow pointed firearm at the suspect and directed him to get on the ground and suspect complied. suspect was taken into custody without further incident.')"
   ]
  },
  {
   "cell_type": "markdown",
   "metadata": {},
   "source": [
    "With vision-LLM to filter away header and footer \n",
    "\n",
    "0.961538461538462 0.980392156862745\n",
    "FP:\n",
    "('narrative', 'officers from the street crimes task force executed a search warrant and subject fled from scene.')\n",
    "('parking lot.', 'officer snow pointed firearm at the suspect and directed him to get on the ground and suspect complied.')\n",
    "FN:\n",
    "('narrative', 'officers from the street crimes task force executed a search warrant and subject fled from scene. officers pursued on foot and officer snow located subject in a parking lot. officer snow pointed firearm at the suspect and directed him to get on the ground and suspect complied. suspect was taken into custody without further incident.')"
   ]
  },
  {
   "cell_type": "code",
   "execution_count": 2,
   "metadata": {},
   "outputs": [
    {
     "data": {
      "text/plain": [
       "0"
      ]
     },
     "execution_count": 2,
     "metadata": {},
     "output_type": "execute_result"
    }
   ],
   "source": [
    "import pattern \n",
    "import importlib\n",
    "\n",
    "importlib.reload(pattern)\n",
    "\n",
    "left = 'force location'\n",
    "right = 'not stated'\n",
    "pattern.pair_oracle(left,right)"
   ]
  },
  {
   "cell_type": "code",
   "execution_count": 3,
   "metadata": {},
   "outputs": [
    {
     "data": {
      "text/plain": [
       "1"
      ]
     },
     "execution_count": 3,
     "metadata": {},
     "output_type": "execute_result"
    }
   ],
   "source": [
    "left = 'type injuries'\n",
    "right = 'none'\n",
    "pattern.pair_oracle(left,right)"
   ]
  },
  {
   "cell_type": "code",
   "execution_count": 4,
   "metadata": {},
   "outputs": [
    {
     "data": {
      "text/plain": [
       "1"
      ]
     },
     "execution_count": 4,
     "metadata": {},
     "output_type": "execute_result"
    }
   ],
   "source": [
    "left = 'status'\n",
    "right = 'completed'\n",
    "pattern.pair_oracle(left,right)"
   ]
  },
  {
   "cell_type": "code",
   "execution_count": 5,
   "metadata": {},
   "outputs": [
    {
     "data": {
      "text/plain": [
       "0"
      ]
     },
     "execution_count": 5,
     "metadata": {},
     "output_type": "execute_result"
    }
   ],
   "source": [
    "left = 'arrested for'\n",
    "right = 'not stated'\n",
    "pattern.pair_oracle(left,right)"
   ]
  },
  {
   "cell_type": "code",
   "execution_count": 6,
   "metadata": {},
   "outputs": [
    {
     "data": {
      "text/plain": [
       "0"
      ]
     },
     "execution_count": 6,
     "metadata": {},
     "output_type": "execute_result"
    }
   ],
   "source": [
    "left = 'hgt'\n",
    "right = '/'\n",
    "pattern.pair_oracle(left,right)"
   ]
  },
  {
   "cell_type": "markdown",
   "metadata": {},
   "source": [
    "### Bipartite graph matching \n",
    "\n",
    "0.24561403508771928 0.2692307692307692\n",
    "FP:\n",
    "('officer detail reports #a-12', 'report criteria')\n",
    "('case number', 'incidents between')\n",
    "('date', 'ahart rachael f.')\n",
    "('information taken from', 'page 1 of 27')\n",
    "('crime/ incident', 'no')\n",
    "('status', '21-00017')\n",
    "('completed', '1609 valley road apt. d1')\n",
    "('incident reviewed by', '1/15/2021')\n",
    "('location', 'apartment')\n",
    "('type premises', 'search warrant')\n",
    "('type situation', 'not listed')\n",
    "('reason force used', 'not listed')\n",
    "('danger factors', 'harvey jamir t.')\n",
    "('final disposition', 'fled scene')\n",
    "('subject #', 'snow ryan s.')\n",
    "('1', 'parking lot.')\n",
    "('dob', 'incident.')\n",
    "('gender', 'fleeing suspect')\n",
    "('male', 'fleeing')\n",
    "('race', '1609 valley road apt. d1')\n",
    "('hgt', '3/14/2022 8:27:19 am')\n",
    "('/', 'n/a')\n",
    "('wgt', 'champaign')\n",
    "('address', 'firearm - pointed at subject')\n",
    "('city', 'none')\n",
    "('level of resistance', 'yes')\n",
    "('subject armed with', 'yes')\n",
    "('force used', 'no')\n",
    "('force location', 'officers from the street crimes task force executed a search warrant and subject fled from scene.')\n",
    "('not stated', 'none')\n",
    "('arrested', 'type injuries')\n",
    "('arrested for', 'type injuries')\n",
    "('not stated', 'no notes')\n",
    "('arrest id', 'yes')\n",
    "('injured', 'none')\n",
    "('medical aid', 'yes')\n",
    "('officer', 'narrative')\n",
    "('action taken', 'l.e.a. data technologies')\n",
    "('action taken useful', 'officer snow pointed firearm at the suspect and directed him to get on the ground and suspect complied.')\n",
    "('camera', 'page 1 of 27')\n",
    "('cit', 'officers pursued on foot and officer snow located subject in a')\n",
    "('disciplinary action', 'administrative database')\n",
    "('included on alert', 'suspect was taken into custody without further')\n",
    "FN:\n",
    "('case number', '21-00017')\n",
    "('date', '1/15/2021')\n",
    "('information taken from', 'crime/ incident')\n",
    "('status', 'completed')\n",
    "('incident reviewed by', 'ahart rachael f.')\n",
    "('location', '1609 valley road apt. d1')\n",
    "('type premises', 'apartment')\n",
    "('district', '')\n",
    "('type situation', 'search warrant')\n",
    "('reason force used', 'fled scene')\n",
    "('danger factors', 'not listed')\n",
    "('final disposition', 'not listed')\n",
    "('subject #', '1')\n",
    "('dob', '')\n",
    "('gender', 'male')\n",
    "('race', '')\n",
    "('hgt', '')\n",
    "('wgt', '')\n",
    "('address', '1609 valley road apt. d1')\n",
    "('level of resistance', 'fleeing suspect')\n",
    "('subject armed with', 'n/a')\n",
    "('force used', 'fleeing')\n",
    "('force location', 'not stated')\n",
    "('arrested', 'yes')\n",
    "('arrested for', 'not stated')\n",
    "('arrest id', 'none')\n",
    "('injured', 'no')\n",
    "('type injuries', '')\n",
    "('medical aid', '')\n",
    "('officer', 'snow ryan s.')\n",
    "('action taken', 'firearm - pointed at subject')\n",
    "('action taken useful', 'yes')\n",
    "('camera', 'yes')\n",
    "('cit', 'no')\n",
    "('type injuries', 'none')\n",
    "('disciplinary action', 'none')\n",
    "('included on alert', 'yes')\n",
    "('narrative', 'officers from the street crimes task force executed a search warrant and subject fled from scene. officers pursued on foot and officer snow located subject in a parking lot. officer snow pointed firearm at the suspect and directed him to get on the ground and suspect complied. suspect was taken into custody without further incident.')"
   ]
  },
  {
   "cell_type": "markdown",
   "metadata": {},
   "source": [
    "FP:\n",
    "('crime/ incident', 'no')\n",
    "('1', 'harvey jamir t.')\n",
    "('male', 'fleeing suspect')\n",
    "('race', '1609 valley road apt. d1')\n",
    "('not stated', 'type injuries')"
   ]
  }
 ],
 "metadata": {
  "kernelspec": {
   "display_name": "base",
   "language": "python",
   "name": "python3"
  },
  "language_info": {
   "codemirror_mode": {
    "name": "ipython",
    "version": 3
   },
   "file_extension": ".py",
   "mimetype": "text/x-python",
   "name": "python",
   "nbconvert_exporter": "python",
   "pygments_lexer": "ipython3",
   "version": "3.9.7"
  }
 },
 "nbformat": 4,
 "nbformat_minor": 2
}
