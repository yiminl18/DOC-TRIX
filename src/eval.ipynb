{
 "cells": [
  {
   "cell_type": "code",
   "execution_count": 24,
   "metadata": {},
   "outputs": [],
   "source": [
    "import key \n",
    "import importlib\n",
    "\n",
    "importlib.reload(key)\n",
    "\n",
    "def read_file(file):\n",
    "    data = []\n",
    "    with open(file, 'r') as file:\n",
    "        # Iterate over each line in the file\n",
    "        for line in file:\n",
    "            # Print the line (you can replace this with other processing logic)\n",
    "            data.append(line.strip())\n",
    "    return data\n",
    "\n",
    "def format(lst):\n",
    "    l = []\n",
    "    for v in lst:\n",
    "        l.append(v.lower().strip())\n",
    "    return l\n",
    "\n",
    "def filter(truths, phrases):\n",
    "    l = []\n",
    "    for v in truths:\n",
    "        if(v not in phrases):\n",
    "            print('True key not in the extracted text: '+v)\n",
    "        else:\n",
    "            l.append(v)\n",
    "\n",
    "    return l\n",
    "\n",
    "def eval(truths, results):\n",
    "    precision = 0\n",
    "    recall = 0\n",
    "    FP = []\n",
    "    FN = []\n",
    "    for v in results:\n",
    "        if(v not in truths):\n",
    "            FP.append(v)\n",
    "        else:\n",
    "            precision += 1\n",
    "            recall += 1\n",
    "    for v in truths:\n",
    "        if(v not in results):\n",
    "            FN.append(v)\n",
    "    precision = precision / len(results)\n",
    "    recall = recall / len(truths)\n",
    "\n",
    "    return precision, recall, FP, FN\n",
    "        "
   ]
  },
  {
   "cell_type": "code",
   "execution_count": 42,
   "metadata": {},
   "outputs": [],
   "source": [
    "root_path = '/Users/yiminglin/Documents/Codebase/Pdf_reverse'\n",
    "tested_paths = []\n",
    "tested_paths.append(root_path + '/data/raw/complaints & use of force/Champaign IL Police Complaints/Investigations_Redacted.pdf')\n",
    "tested_paths.append(root_path + '/data/raw/complaints & use of force/UIUC PD Use of Force/22-274.releasable.pdf')\n",
    "tested_paths.append(root_path + '/data/raw/certification/CT/DecertifiedOfficersRev_9622 Emilie Munson.pdf')\n",
    "tested_paths.append(root_path + '/data/raw/certification/IA/Active_Employment.pdf')\n",
    "tested_paths.append(root_path + '/data/raw/certification/MT/RptEmpRstrDetail Active.pdf')\n",
    "tested_paths.append(root_path + '/data/raw/certification/VT/Invisible Institue Report.pdf')\n",
    "\n",
    "tested_id = 1 #starting from 0\n",
    "\n",
    "path = tested_paths[tested_id]\n",
    "result_path = key.get_result_path(path)\n",
    "truth_path = key.get_truth_path(path,1)\n",
    "extracted_path = key.get_extracted_path(path)\n",
    "\n",
    "\n",
    "truths = format(read_file(truth_path))\n",
    "results = format(read_file(result_path))\n",
    "phrases = format(read_file(extracted_path))\n",
    "\n",
    "truths = filter(truths, phrases)\n",
    "precision, recall, FP, FN = eval(truths, results)"
   ]
  },
  {
   "cell_type": "code",
   "execution_count": 43,
   "metadata": {},
   "outputs": [
    {
     "name": "stdout",
     "output_type": "stream",
     "text": [
      "0.8928571428571429 0.9615384615384616\n"
     ]
    }
   ],
   "source": [
    "print(precision, recall)"
   ]
  },
  {
   "cell_type": "code",
   "execution_count": 44,
   "metadata": {},
   "outputs": [
    {
     "name": "stdout",
     "output_type": "stream",
     "text": [
      "male\n",
      "/\n",
      "not stated\n",
      "crime/ incident\n",
      "completed\n",
      "1\n"
     ]
    }
   ],
   "source": [
    "for v in FP:\n",
    "    print(v)"
   ]
  },
  {
   "cell_type": "markdown",
   "metadata": {},
   "source": [
    "- 'Male' is perfectly aligned with gender because Male is the same value for every gender. But they are seperated by ':', where we have hope to recover it in the second key-value phase. \n",
    "  - Same as 'crime/ incident', 'completed', '1', 'not stated'\n",
    "- 'officer detail reports #a-12', 'university of illinois police department', are metadata "
   ]
  },
  {
   "cell_type": "code",
   "execution_count": 45,
   "metadata": {},
   "outputs": [
    {
     "name": "stdout",
     "output_type": "stream",
     "text": [
      "type injuries\n",
      "narrative\n"
     ]
    }
   ],
   "source": [
    "for v in FN:\n",
    "    print(v)"
   ]
  },
  {
   "cell_type": "markdown",
   "metadata": {},
   "source": [
    "- 'Narrative' is because it is end of a record, which might have multiple subrecords before. So its relative location is sensitive to the number of sub-record. \n",
    "- 'type injuries' appears in multi-subrecord and 1-perfect match is too strict to catch it"
   ]
  },
  {
   "cell_type": "code",
   "execution_count": 53,
   "metadata": {},
   "outputs": [],
   "source": [
    "root_path = '/Users/yiminglin/Documents/Codebase/Pdf_reverse'\n",
    "tested_paths = []\n",
    "tested_paths.append(root_path + '/data/raw/complaints & use of force/Champaign IL Police Complaints/Investigations_Redacted.pdf')\n",
    "tested_paths.append(root_path + '/data/raw/complaints & use of force/UIUC PD Use of Force/22-274.releasable.pdf')\n",
    "tested_paths.append(root_path + '/data/raw/certification/CT/DecertifiedOfficersRev_9622 Emilie Munson.pdf')\n",
    "tested_paths.append(root_path + '/data/raw/certification/IA/Active_Employment.pdf')\n",
    "tested_paths.append(root_path + '/data/raw/certification/MT/RptEmpRstrDetail Active.pdf')\n",
    "tested_paths.append(root_path + '/data/raw/certification/VT/Invisible Institue Report.pdf')\n",
    "\n",
    "tested_id = 0 #starting from 0\n",
    "\n",
    "path = tested_paths[tested_id]\n",
    "result_path = key.get_result_path(path)\n",
    "truth_path = key.get_truth_path(path,0)\n",
    "extracted_path = key.get_extracted_path(path)\n",
    "\n",
    "\n",
    "truths = format(read_file(truth_path))\n",
    "results = format(read_file(result_path))\n",
    "phrases = format(read_file(extracted_path))\n",
    "\n",
    "truths = filter(truths, phrases)\n",
    "precision, recall, FP, FN = eval(truths, results)"
   ]
  },
  {
   "cell_type": "code",
   "execution_count": 54,
   "metadata": {},
   "outputs": [
    {
     "name": "stdout",
     "output_type": "stream",
     "text": [
      "0.8709677419354839 1.0\n"
     ]
    }
   ],
   "source": [
    "print(precision,recall)"
   ]
  },
  {
   "cell_type": "code",
   "execution_count": 55,
   "metadata": {},
   "outputs": [
    {
     "data": {
      "text/plain": [
       "['no', 'not stated', '1', 'n/a']"
      ]
     },
     "execution_count": 55,
     "metadata": {},
     "output_type": "execute_result"
    }
   ],
   "source": [
    "FP"
   ]
  },
  {
   "cell_type": "markdown",
   "metadata": {},
   "source": [
    "- Same value repeated for the same key. 'no', 'not stated', '1', 'n/a'"
   ]
  },
  {
   "cell_type": "code",
   "execution_count": 5,
   "metadata": {},
   "outputs": [
    {
     "name": "stdout",
     "output_type": "stream",
     "text": [
      "/Users/yiminglin/Documents/Codebase/Pdf_reverse/data/truths/key_truth/certification/CT/DecertifiedOfficersRev_9622 Emilie Munson_metadata.txt ['year', 'name', 'department', 'post id#', 'date', 'reason', 'list of decertified officers by', 'police officer standards and training council', 'and predecessor', 'municipal police training council']\n"
     ]
    }
   ],
   "source": [
    "root_path = '/Users/yiminglin/Documents/Codebase/Pdf_reverse'\n",
    "tested_paths = []\n",
    "tested_paths.append(root_path + '/data/raw/complaints & use of force/Champaign IL Police Complaints/Investigations_Redacted.pdf')\n",
    "tested_paths.append(root_path + '/data/raw/complaints & use of force/UIUC PD Use of Force/22-274.releasable.pdf')\n",
    "tested_paths.append(root_path + '/data/raw/certification/CT/DecertifiedOfficersRev_9622 Emilie Munson.pdf')\n",
    "tested_paths.append(root_path + '/data/raw/certification/IA/Active_Employment.pdf')\n",
    "tested_paths.append(root_path + '/data/raw/certification/MT/RptEmpRstrDetail Active.pdf')\n",
    "tested_paths.append(root_path + '/data/raw/certification/VT/Invisible Institue Report.pdf')\n",
    "\n",
    "tested_id = 2 #starting from 0\n",
    "\n",
    "path = tested_paths[tested_id]\n",
    "result_path = key.get_result_path(path)\n",
    "truth_path = key.get_truth_path(path,1)\n",
    "extracted_path = key.get_extracted_path(path)\n",
    "\n",
    "truths = format(read_file(truth_path))\n",
    "results = format(read_file(result_path))\n",
    "phrases = format(read_file(extracted_path))\n",
    "print(truth_path, truths)\n",
    "truths = filter(truths, phrases)\n",
    "precision, recall, FP, FN = eval(truths, results)\n",
    "\n"
   ]
  },
  {
   "cell_type": "code",
   "execution_count": 6,
   "metadata": {},
   "outputs": [
    {
     "name": "stdout",
     "output_type": "stream",
     "text": [
      "1.0 1.0\n"
     ]
    }
   ],
   "source": [
    "print(precision,recall)"
   ]
  },
  {
   "cell_type": "code",
   "execution_count": 12,
   "metadata": {},
   "outputs": [],
   "source": [
    "root_path = '/Users/yiminglin/Documents/Codebase/Pdf_reverse'\n",
    "tested_paths = []\n",
    "tested_paths.append(root_path + '/data/raw/complaints & use of force/Champaign IL Police Complaints/Investigations_Redacted.pdf')\n",
    "tested_paths.append(root_path + '/data/raw/complaints & use of force/UIUC PD Use of Force/22-274.releasable.pdf')\n",
    "tested_paths.append(root_path + '/data/raw/certification/CT/DecertifiedOfficersRev_9622 Emilie Munson.pdf')\n",
    "tested_paths.append(root_path + '/data/raw/certification/IA/Active_Employment.pdf')\n",
    "tested_paths.append(root_path + '/data/raw/certification/MT/RptEmpRstrDetail Active.pdf')\n",
    "tested_paths.append(root_path + '/data/raw/certification/VT/Invisible Institue Report.pdf')\n",
    "\n",
    "tested_id = 3 #starting from 0\n",
    "\n",
    "path = tested_paths[tested_id]\n",
    "result_path = key.get_result_path(path)\n",
    "truth_path = key.get_truth_path(path,1)\n",
    "extracted_path = key.get_extracted_path(path)\n",
    "\n",
    "truths = format(read_file(truth_path))\n",
    "results = format(read_file(result_path))\n",
    "phrases = format(read_file(extracted_path))\n",
    "#print(truth_path, truths)\n",
    "truths = filter(truths, phrases)\n",
    "precision, recall, FP, FN = eval(truths, results)"
   ]
  },
  {
   "cell_type": "code",
   "execution_count": 13,
   "metadata": {},
   "outputs": [
    {
     "name": "stdout",
     "output_type": "stream",
     "text": [
      "1.0 1.0\n"
     ]
    }
   ],
   "source": [
    "print(precision,recall)"
   ]
  },
  {
   "cell_type": "markdown",
   "metadata": {},
   "source": [
    "Half loss is due to metadata. \n",
    "\n",
    "['apr 18,2023',\n",
    " 'iowa',\n",
    " 'law',\n",
    " 'enforcement',\n",
    " 'academy',\n",
    " 'page',\n",
    " '02:46pm',\n",
    " 'employment',\n",
    " 'report',\n",
    " 'muckrock orr report - employment']"
   ]
  },
  {
   "cell_type": "code",
   "execution_count": 28,
   "metadata": {},
   "outputs": [],
   "source": [
    "root_path = '/Users/yiminglin/Documents/Codebase/Pdf_reverse'\n",
    "tested_paths = []\n",
    "tested_paths.append(root_path + '/data/raw/complaints & use of force/Champaign IL Police Complaints/Investigations_Redacted.pdf')\n",
    "tested_paths.append(root_path + '/data/raw/complaints & use of force/UIUC PD Use of Force/22-274.releasable.pdf')\n",
    "tested_paths.append(root_path + '/data/raw/certification/CT/DecertifiedOfficersRev_9622 Emilie Munson.pdf')\n",
    "tested_paths.append(root_path + '/data/raw/certification/IA/Active_Employment.pdf')\n",
    "tested_paths.append(root_path + '/data/raw/certification/MT/RptEmpRstrDetail Active.pdf')\n",
    "tested_paths.append(root_path + '/data/raw/certification/VT/Invisible Institue Report.pdf')\n",
    "\n",
    "tested_id = 4 #starting from 0\n",
    "\n",
    "path = tested_paths[tested_id]\n",
    "result_path = key.get_result_path(path)\n",
    "truth_path = key.get_truth_path(path,1)\n",
    "extracted_path = key.get_extracted_path(path)\n",
    "\n",
    "truths = format(read_file(truth_path))\n",
    "results = format(read_file(result_path))\n",
    "phrases = format(read_file(extracted_path))\n",
    "#print(truth_path, truths)\n",
    "truths = filter(truths, phrases)\n",
    "precision, recall, FP, FN = eval(truths, results)"
   ]
  },
  {
   "cell_type": "code",
   "execution_count": 29,
   "metadata": {},
   "outputs": [
    {
     "name": "stdout",
     "output_type": "stream",
     "text": [
      "0.9090909090909091 1.0\n"
     ]
    }
   ],
   "source": [
    "print(precision,recall)"
   ]
  },
  {
   "cell_type": "code",
   "execution_count": 30,
   "metadata": {},
   "outputs": [
    {
     "data": {
      "text/plain": [
       "['m', '\\uf0fc']"
      ]
     },
     "execution_count": 30,
     "metadata": {},
     "output_type": "execute_result"
    }
   ],
   "source": [
    "FP"
   ]
  },
  {
   "cell_type": "code",
   "execution_count": 50,
   "metadata": {},
   "outputs": [],
   "source": [
    "root_path = '/Users/yiminglin/Documents/Codebase/Pdf_reverse'\n",
    "tested_paths = []\n",
    "tested_paths.append(root_path + '/data/raw/complaints & use of force/Champaign IL Police Complaints/Investigations_Redacted.pdf')\n",
    "tested_paths.append(root_path + '/data/raw/complaints & use of force/UIUC PD Use of Force/22-274.releasable.pdf')\n",
    "tested_paths.append(root_path + '/data/raw/certification/CT/DecertifiedOfficersRev_9622 Emilie Munson.pdf')\n",
    "tested_paths.append(root_path + '/data/raw/certification/IA/Active_Employment.pdf')\n",
    "tested_paths.append(root_path + '/data/raw/certification/MT/RptEmpRstrDetail Active.pdf')\n",
    "tested_paths.append(root_path + '/data/raw/certification/VT/Invisible Institue Report.pdf')\n",
    "\n",
    "tested_id = 5 #starting from 0\n",
    "\n",
    "path = tested_paths[tested_id]\n",
    "result_path = key.get_result_path(path)\n",
    "truth_path = key.get_truth_path(path,1)\n",
    "extracted_path = key.get_extracted_path(path)\n",
    "\n",
    "truths = format(read_file(truth_path))\n",
    "results = format(read_file(result_path))\n",
    "phrases = format(read_file(extracted_path))\n",
    "#print(truth_path, truths)\n",
    "truths = filter(truths, phrases)\n",
    "precision, recall, FP, FN = eval(truths, results)"
   ]
  },
  {
   "cell_type": "code",
   "execution_count": 51,
   "metadata": {},
   "outputs": [
    {
     "name": "stdout",
     "output_type": "stream",
     "text": [
      "0.8620689655172413 1.0\n"
     ]
    }
   ],
   "source": [
    "print(precision,recall)"
   ]
  },
  {
   "cell_type": "code",
   "execution_count": 52,
   "metadata": {},
   "outputs": [
    {
     "data": {
      "text/plain": [
       "['certification', 'years', 'days', 'active']"
      ]
     },
     "execution_count": 52,
     "metadata": {},
     "output_type": "execute_result"
    }
   ],
   "source": [
    "FP"
   ]
  },
  {
   "cell_type": "markdown",
   "metadata": {},
   "source": [
    "- 'Certification': undefined, preferred to be metedata\n",
    "- 'years','days','active': same value repeated for the same key."
   ]
  }
 ],
 "metadata": {
  "kernelspec": {
   "display_name": "base",
   "language": "python",
   "name": "python3"
  },
  "language_info": {
   "codemirror_mode": {
    "name": "ipython",
    "version": 3
   },
   "file_extension": ".py",
   "mimetype": "text/x-python",
   "name": "python",
   "nbconvert_exporter": "python",
   "pygments_lexer": "ipython3",
   "version": "3.9.7"
  }
 },
 "nbformat": 4,
 "nbformat_minor": 2
}
