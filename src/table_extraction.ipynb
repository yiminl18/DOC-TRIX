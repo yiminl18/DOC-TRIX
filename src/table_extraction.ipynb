{
 "cells": [
  {
   "cell_type": "code",
   "execution_count": 1,
   "metadata": {},
   "outputs": [
    {
     "data": {
      "text/plain": [
       "<module 'pattern' from '/Users/yiminglin/Documents/Codebase/Pdf_reverse/src/pattern.py'>"
      ]
     },
     "execution_count": 1,
     "metadata": {},
     "output_type": "execute_result"
    }
   ],
   "source": [
    "import pattern,key \n",
    "import importlib\n",
    "\n",
    "importlib.reload(pattern)\n",
    "importlib.reload(key)"
   ]
  },
  {
   "cell_type": "code",
   "execution_count": null,
   "metadata": {},
   "outputs": [],
   "source": [
    "root_path = '/Users/yiminglin/Documents/Codebase/Pdf_reverse'\n",
    "#print(root_path)\n",
    "tested_paths = []\n",
    "tested_paths.append(root_path + '/data/raw/complaints & use of force/Champaign IL Police Complaints/Investigations_Redacted.pdf')\n",
    "tested_paths.append(root_path + '/data/raw/complaints & use of force/UIUC PD Use of Force/22-274.releasable.pdf')\n",
    "tested_paths.append(root_path + '/data/raw/certification/CT/DecertifiedOfficersRev_9622 Emilie Munson.pdf')\n",
    "tested_paths.append(root_path + '/data/raw/certification/IA/Active_Employment.pdf')\n",
    "tested_paths.append(root_path + '/data/raw/certification/MT/RptEmpRstrDetail Active.pdf')\n",
    "tested_paths.append(root_path + '/data/raw/certification/VT/Invisible Institue Report.pdf')\n",
    "\n",
    "id = 0\n",
    "tested_id = 3 #starting from 1\n",
    "k=1\n",
    "\n",
    "for path in tested_paths:\n",
    "    id += 1\n",
    "    if(id != tested_id):\n",
    "        continue\n",
    "    print(path)\n",
    "    result_path = key.get_result_path(path)\n",
    "    truth_path = key.get_truth_path(path,1)\n",
    "    extracted_path = key.get_extracted_path(path)\n",
    "    bb_path = pattern.get_bb_path(extracted_path)\n",
    "\n",
    "\n",
    "    truths = pattern.format(pattern.read_file(truth_path))\n",
    "    results = pattern.format(pattern.read_file(result_path))\n",
    "    phrases = pattern.format(pattern.read_file(extracted_path))\n",
    "    phrases_bb = pattern.format_dict(pattern.read_json(bb_path))\n",
    "\n",
    "    pattern.table_extraction(phrases_bb, results, phrases)"
   ]
  }
 ],
 "metadata": {
  "kernelspec": {
   "display_name": "base",
   "language": "python",
   "name": "python3"
  },
  "language_info": {
   "codemirror_mode": {
    "name": "ipython",
    "version": 3
   },
   "file_extension": ".py",
   "mimetype": "text/x-python",
   "name": "python",
   "nbconvert_exporter": "python",
   "pygments_lexer": "ipython3",
   "version": "3.9.7"
  }
 },
 "nbformat": 4,
 "nbformat_minor": 2
}
