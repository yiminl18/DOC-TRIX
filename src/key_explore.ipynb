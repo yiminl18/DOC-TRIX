{
 "cells": [
  {
   "cell_type": "code",
   "execution_count": 4,
   "metadata": {},
   "outputs": [],
   "source": [
    "import json\n",
    "import os "
   ]
  },
  {
   "cell_type": "code",
   "execution_count": 19,
   "metadata": {},
   "outputs": [],
   "source": [
    "def read_dict(file):\n",
    "    print(file)\n",
    "    with open(file, 'r') as file:\n",
    "        data = json.load(file)\n",
    "    return data \n",
    "\n",
    "def read_file(file):\n",
    "    data = []\n",
    "    with open(file, 'r') as file:\n",
    "        # Iterate over each line in the file\n",
    "        for line in file:\n",
    "            # Print the line (you can replace this with other processing logic)\n",
    "            data.append(line.strip())\n",
    "    return data\n",
    "\n",
    "def get_extracted_path(path):\n",
    "    path = path.replace('raw','extracted')\n",
    "    path = path.replace('.pdf','.txt')\n",
    "    return path\n",
    "\n",
    "def get_relative_location_path(extracted_path):\n",
    "    path = extracted_path[:-4] + '_relative_location.csv'\n",
    "    return path\n",
    "\n",
    "def get_root_path():\n",
    "    current_path = os.path.abspath(os.path.dirname(__file__))\n",
    "    parent_path = os.path.abspath(os.path.join(current_path, os.pardir))\n",
    "    #print(\"Parent path:\", parent_path)\n",
    "    return parent_path\n",
    "\n",
    "def get_key_path(extracted_path):\n",
    "    path = extracted_path.replace('extracted','truths/key_truth')\n",
    "    return path\n"
   ]
  },
  {
   "cell_type": "code",
   "execution_count": 15,
   "metadata": {},
   "outputs": [
    {
     "name": "stdout",
     "output_type": "stream",
     "text": [
      "/Users/yiminglin/Documents/Codebase/Pdf_reverse/data/extracted/complaints & use of force/UIUC PD Use of Force/22-274.releasable_relative_location.csv\n",
      "Case Number [6, 120, 232, 397, 543, 733, 843]\n",
      "Date [8, 122, 234, 399, 545, 735, 845]\n"
     ]
    }
   ],
   "source": [
    "#check relative locations \n",
    "\n",
    "root_path = '/Users/yiminglin/Documents/Codebase/Pdf_reverse'\n",
    "tested_paths = []\n",
    "tested_paths.append(root_path + '/data/raw/complaints & use of force/Champaign IL Police Complaints/Investigations_Redacted.pdf')\n",
    "tested_paths.append(root_path + '/data/raw/complaints & use of force/UIUC PD Use of Force/22-274.releasable.pdf')\n",
    "tested_paths.append(root_path + '/data/raw/certification/CT/DecertifiedOfficersRev_9622 Emilie Munson.pdf')\n",
    "tested_paths.append(root_path + '/data/raw/certification/IA/Active_Employment.pdf')\n",
    "tested_paths.append(root_path + '/data/raw/certification/MT/RptEmpRstrDetail Active.pdf')\n",
    "tested_paths.append(root_path + '/data/raw/certification/VT/Invisible Institue Report.pdf')\n",
    "\n",
    "tested_id = 1 #starting from 0\n",
    "\n",
    "path = tested_paths[tested_id]\n",
    "extracted_path = get_extracted_path(path)\n",
    "out_path = get_relative_location_path(extracted_path)\n",
    "phrases = read_dict(out_path)\n",
    "\n",
    "words = ['Case Number','Date']\n",
    "\n",
    "for word in words:\n",
    "    print(word,phrases[word])\n",
    "\n",
    "\n"
   ]
  },
  {
   "cell_type": "code",
   "execution_count": 18,
   "metadata": {},
   "outputs": [
    {
     "name": "stdout",
     "output_type": "stream",
     "text": [
      "Case Number [6, 120, 232, 397, 543, 733, 843]\n",
      "Date [8, 122, 234, 399, 545, 735, 845]\n",
      "Time [10, 124, 236, 401, 547, 737, 847]\n",
      "Assist [12, 126, 238, 403, 549, 739, 849]\n",
      "Agency [14, 128, 240, 405, 551, 741, 851]\n",
      "Information Taken From [16, 130, 242, 407, 552, 743, 853]\n",
      "Status [18, 132, 244, 409, 554, 745, 855]\n",
      "Incident Reviewed By [20, 134, 246, 411, 556, 747, 857]\n",
      "Date Reviewed [22, 136, 248, 413, 558, 749, 859]\n",
      "Drugs/Alcohol [24, 138, 250, 415, 560, 751, 861]\n",
      "Location [26, 140, 252, 417, 562, 753, 863]\n",
      "City [28, 69, 142, 183, 254, 295, 419, 458, 564, 603, 635, 755, 794, 865, 904]\n",
      "K-9 [30, 144, 256, 421, 566, 757, 867]\n",
      "Crisis Intervention Related [32, 146, 258, 423, 568, 759, 869]\n",
      "Type Premises [34, 148, 260, 425, 570, 761, 871]\n",
      "District [36, 150, 262, 427, 572, 763, 873]\n",
      "Recorded On Camera [37, 151, 263, 428, 573, 764, 874]\n",
      "Camera [39, 96, 153, 210, 265, 324, 340, 356, 372, 430, 484, 500, 516, 575, 661, 677, 693, 709, 766, 820, 876, 930]\n",
      "Type Situation [41, 155, 267, 432, 577, 768, 878]\n",
      "Reason Force Used [43, 157, 269, 434, 579, 770, 880]\n",
      "Officer Injured [45, 159, 271, 436, 581, 772, 882]\n",
      "Danger Factors [47, 161, 273, 438, 583, 774, 884]\n",
      "Final Disposition [49, 163, 275, 440, 585, 776, 886]\n",
      "Verbal De-Escalation Attempted [51, 165, 277, 442, 587, 778, 888]\n",
      "Notes [53, 167, 279, 316, 444, 589, 780, 890]\n",
      "Subject # [55, 169, 281, 446, 591, 623, 782, 892]\n",
      "DOB [58, 172, 284, 448, 593, 625, 784, 894]\n",
      "Gender [59, 173, 285, 449, 594, 626, 785, 895]\n",
      "Race [61, 175, 287, 451, 596, 628, 787, 897]\n",
      "HGT [62, 176, 288, 452, 597, 629, 788, 898]\n",
      "WGT [64, 178, 290, 454, 599, 631, 790, 900]\n",
      "Under The Influence [65, 179, 291, 455, 600, 632, 791, 901]\n",
      "Address [67, 181, 293, 457, 602, 634, 793, 903]\n",
      "Level Of Resistance [71, 185, 297, 459, 604, 636, 795, 905]\n",
      "Subject Armed With [73, 187, 299, 461, 606, 638, 797, 907]\n",
      "Force Used [75, 189, 301, 463, 608, 640, 799, 909]\n",
      "Force Location [77, 191, 303, 465, 610, 642, 801, 911]\n",
      "Arrested [79, 193, 305, 467, 612, 644, 803, 913]\n",
      "Arrested For [81, 195, 307, 469, 614, 646, 805, 915]\n",
      "Arrest ID [83, 197, 309, 471, 616, 648, 807, 917]\n",
      "Injured [85, 199, 311, 473, 618, 650, 809, 919]\n",
      "Type Injuries [87, 100, 201, 214, 313, 328, 344, 360, 376, 475, 488, 504, 520, 620, 652, 665, 681, 697, 713, 811, 824, 921, 934]\n",
      "Medical Aid [88, 202, 315, 476, 621, 653, 812, 922]\n",
      "Officer [90, 204, 318, 334, 350, 366, 478, 494, 510, 655, 671, 687, 703, 814, 924]\n",
      "Action Taken [92, 206, 320, 336, 352, 368, 480, 496, 512, 657, 673, 689, 705, 816, 926]\n",
      "Action Taken Useful [94, 208, 322, 338, 354, 370, 482, 498, 514, 659, 675, 691, 707, 818, 928]\n",
      "CIT [98, 212, 326, 342, 358, 374, 486, 502, 518, 663, 679, 695, 711, 822, 932]\n",
      "Disciplinary Action [102, 216, 330, 346, 362, 378, 490, 506, 522, 667, 683, 699, 715, 826, 936]\n",
      "Included On Alert [104, 218, 332, 348, 364, 380, 492, 508, 524, 669, 685, 701, 717, 828, 938]\n",
      "Narrative [106, 220, 382, 526, 719, 830, 940]\n"
     ]
    }
   ],
   "source": [
    "#load ground truth keys \n",
    "\n",
    "true_keys = read_file('/Users/yiminglin/Documents/Codebase/Pdf_reverse/data/truths/key_truth/complaints & use of force/UIUC PD Use of Force/22-274.releasable.txt')\n",
    "\n",
    "for key in true_keys:\n",
    "    if(key in phrases):\n",
    "        print(key, phrases[key])"
   ]
  },
  {
   "cell_type": "markdown",
   "metadata": {},
   "source": [
    "## Observation from Use of Force\n",
    "\n",
    "- For most true keys, they are perfectly aligned (same frequencies, and same delta)\n",
    "- In one record, different keys can share the same name \n",
    "  -  Keys with the same entity type (e.g., included on alert, type injuries)\n",
    "  -  Keys with the different entity types (e.g., city, camera) "
   ]
  },
  {
   "cell_type": "code",
   "execution_count": 21,
   "metadata": {},
   "outputs": [
    {
     "name": "stdout",
     "output_type": "stream",
     "text": [
      "/Users/yiminglin/Documents/Codebase/Pdf_reverse/data/extracted/complaints & use of force/Champaign IL Police Complaints/Investigations_Redacted_relative_location.csv\n",
      "Date [5, 59, 125, 192, 248, 308, 370, 428, 480, 532, 585, 644, 696, 755, 808, 881, 934, 987, 1057, 1123, 1177, 1244, 1318, 1371, 1430]\n",
      "Number [6, 60, 126, 193, 249, 309, 371, 429, 481, 533, 586, 645, 697, 756, 809, 882, 935, 988, 1058, 1124, 1178, 1245, 1319, 1372, 1431]\n",
      "Investigator [7, 61, 127, 194, 250, 310, 372, 430, 482, 534, 587, 646, 698, 757, 810, 883, 936, 989, 1059, 1125, 1179, 1246, 1320, 1373, 1432]\n",
      "Date Assigned [8, 62, 128, 195, 251, 311, 373, 431, 483, 535, 588, 647, 699, 758, 811, 884, 937, 990, 1060, 1126, 1180, 1247, 1321, 1374, 1433]\n",
      "Racial [9, 63, 129, 196, 252, 312, 374, 432, 484, 536, 589, 648, 700, 759, 812, 885, 938, 991, 1061, 1127, 1181, 1248, 1322, 1375, 1434]\n",
      "Category / Type [10, 64, 130, 197, 253, 313, 375, 433, 485, 537, 590, 649, 701, 760, 813, 886, 939, 992, 1062, 1128, 1182, 1249, 1323, 1376, 1435]\n",
      "Location Of Occurrence [11, 65, 131, 198, 254, 314, 376, 434, 486, 538, 591, 650, 702, 761, 814, 887, 940, 993, 1063, 1129, 1183, 1250, 1324, 1377, 1436]\n",
      "Disposition [12, 66, 132, 199, 255, 315, 377, 435, 487, 539, 592, 651, 703, 762, 815, 888, 941, 994, 1064, 1130, 1184, 1251, 1325, 1378, 1437]\n",
      "Completed [13, 67, 133, 200, 256, 316, 378, 436, 488, 540, 593, 652, 704, 763, 816, 889, 942, 995, 1065, 1131, 1185, 1252, 1326, 1379, 1438]\n",
      "Recorded On Camera [14, 68, 134, 201, 257, 317, 379, 437, 489, 541, 594, 653, 705, 764, 817, 890, 943, 996, 1066, 1132, 1186, 1253, 1327, 1380, 1439]\n",
      "Type Of Complaint [34, 88, 155, 221, 277, 338, 399, 457, 509, 561, 614, 673, 725, 784, 837, 910, 963, 1017, 1087, 1152, 1206, 1273, 1347, 1400, 1459]\n",
      "Description [35, 89, 156, 222, 278, 339, 400, 458, 510, 562, 615, 674, 726, 785, 838, 911, 964, 1018, 1088, 1153, 1207, 1274, 1348, 1401, 1460]\n",
      "Complaint Disposition [36, 90, 157, 223, 279, 340, 401, 459, 511, 563, 616, 675, 727, 786, 839, 912, 965, 1019, 1089, 1154, 1208, 1275, 1349, 1402, 1461]\n",
      "Name [43, 108, 170, 230, 292, 346, 407, 465, 517, 569, 622, 681, 739, 792, 850, 918, 971, 1030, 1101, 1161, 1229, 1296, 1355, 1413, 1467]\n",
      "ID No. [44, 109, 171, 231, 293, 347, 408, 466, 518, 570, 623, 682, 740, 793, 851, 919, 972, 1031, 1102, 1162, 1230, 1297, 1356, 1414, 1468]\n",
      "Rank [45, 110, 172, 232, 294, 348, 409, 467, 519, 571, 624, 683, 741, 794, 852, 920, 973, 1032, 1103, 1163, 1231, 1298, 1357, 1415, 1469]\n",
      "Division [46, 111, 173, 233, 295, 349, 410, 468, 520, 572, 625, 684, 742, 795, 853, 921, 974, 1033, 1104, 1164, 1232, 1299, 1358, 1416, 1470]\n",
      "Officer Disposition [47, 112, 174, 234, 296, 350, 411, 469, 521, 573, 626, 685, 743, 796, 854, 922, 975, 1034, 1105, 1165, 1233, 1300, 1359, 1417, 1471]\n",
      "Action Taken [48, 113, 175, 235, 297, 351, 412, 470, 522, 574, 627, 686, 744, 797, 855, 923, 976, 1035, 1106, 1166, 1234, 1301, 1360, 1418, 1472]\n",
      "Body Cam [49, 114, 176, 236, 298, 352, 413, 471, 523, 575, 628, 687, 745, 798, 856, 924, 977, 1036, 1107, 1167, 1235, 1302, 1361, 1419, 1473]\n"
     ]
    }
   ],
   "source": [
    "#check police complaints \n",
    "\n",
    "root_path = '/Users/yiminglin/Documents/Codebase/Pdf_reverse'\n",
    "tested_paths = []\n",
    "tested_paths.append(root_path + '/data/raw/complaints & use of force/Champaign IL Police Complaints/Investigations_Redacted.pdf')\n",
    "tested_paths.append(root_path + '/data/raw/complaints & use of force/UIUC PD Use of Force/22-274.releasable.pdf')\n",
    "tested_paths.append(root_path + '/data/raw/certification/CT/DecertifiedOfficersRev_9622 Emilie Munson.pdf')\n",
    "tested_paths.append(root_path + '/data/raw/certification/IA/Active_Employment.pdf')\n",
    "tested_paths.append(root_path + '/data/raw/certification/MT/RptEmpRstrDetail Active.pdf')\n",
    "tested_paths.append(root_path + '/data/raw/certification/VT/Invisible Institue Report.pdf')\n",
    "\n",
    "tested_id = 0 #starting from 0\n",
    "\n",
    "path = tested_paths[tested_id]\n",
    "extracted_path = get_extracted_path(path)\n",
    "out_path = get_relative_location_path(extracted_path)\n",
    "key_path = get_key_path(extracted_path)\n",
    "phrases = read_dict(out_path)\n",
    "\n",
    "#print(key_path)\n",
    "true_keys = read_file(key_path)\n",
    "\n",
    "\n",
    "\n",
    "for key in true_keys:\n",
    "    if(key in phrases):\n",
    "        print(key, phrases[key])\n",
    "        "
   ]
  },
  {
   "cell_type": "markdown",
   "metadata": {},
   "source": [
    "## Observation from Police Complaints \n",
    "\n",
    "- For most true keys, they are perfectly aligned (same frequencies, and same delta)"
   ]
  },
  {
   "cell_type": "code",
   "execution_count": 22,
   "metadata": {},
   "outputs": [
    {
     "name": "stdout",
     "output_type": "stream",
     "text": [
      "/Users/yiminglin/Documents/Codebase/Pdf_reverse/data/extracted/certification/CT/DecertifiedOfficersRev_9622 Emilie Munson_relative_location.csv\n",
      "YEAR [4, 108, 232, 347, 447, 548]\n",
      "NAME [5, 109, 233, 348, 448, 549]\n",
      "DEPARTMENT [6, 110, 234, 349, 449, 550]\n",
      "POST ID# [7, 111, 235, 350, 450, 551]\n",
      "DATE [8, 112, 236, 351, 451, 552]\n",
      "REASON [9, 113, 237, 352, 452, 553]\n"
     ]
    }
   ],
   "source": [
    "root_path = '/Users/yiminglin/Documents/Codebase/Pdf_reverse'\n",
    "tested_paths = []\n",
    "tested_paths.append(root_path + '/data/raw/complaints & use of force/Champaign IL Police Complaints/Investigations_Redacted.pdf')\n",
    "tested_paths.append(root_path + '/data/raw/complaints & use of force/UIUC PD Use of Force/22-274.releasable.pdf')\n",
    "tested_paths.append(root_path + '/data/raw/certification/CT/DecertifiedOfficersRev_9622 Emilie Munson.pdf')\n",
    "tested_paths.append(root_path + '/data/raw/certification/IA/Active_Employment.pdf')\n",
    "tested_paths.append(root_path + '/data/raw/certification/MT/RptEmpRstrDetail Active.pdf')\n",
    "tested_paths.append(root_path + '/data/raw/certification/VT/Invisible Institue Report.pdf')\n",
    "\n",
    "tested_id = 2 #starting from 0\n",
    "\n",
    "path = tested_paths[tested_id]\n",
    "extracted_path = get_extracted_path(path)\n",
    "out_path = get_relative_location_path(extracted_path)\n",
    "key_path = get_key_path(extracted_path)\n",
    "phrases = read_dict(out_path)\n",
    "\n",
    "#print(key_path)\n",
    "true_keys = read_file(key_path)\n",
    "\n",
    "\n",
    "\n",
    "for key in true_keys:\n",
    "    if(key in phrases):\n",
    "        print(key, phrases[key])"
   ]
  },
  {
   "cell_type": "markdown",
   "metadata": {},
   "source": [
    "## Observation\n",
    "\n",
    "- For all true keys, they are perfectly aligned (same frequencies, and same delta)"
   ]
  },
  {
   "cell_type": "code",
   "execution_count": 23,
   "metadata": {},
   "outputs": [
    {
     "name": "stdout",
     "output_type": "stream",
     "text": [
      "/Users/yiminglin/Documents/Codebase/Pdf_reverse/data/extracted/certification/IA/Active_Employment_relative_location.csv\n",
      "Agency [11, 231, 455, 678, 906, 1142, 1384]\n",
      "Date [12, 232, 456, 679, 907, 1143, 1385]\n",
      "F/P [13, 233, 457, 680, 908, 1144, 1386]\n",
      "Action [14, 234, 458, 681, 909, 1145, 1387]\n",
      "Status [15, 235, 459, 682, 910, 1146, 1388]\n",
      "Assignment [16, 236, 460, 683, 911, 1147, 1389]\n",
      "Pos/Rank [17, 237, 461, 684, 912, 1148, 1390]\n",
      "Level [18, 238, 462, 685, 913, 1149, 1391]\n",
      "Class [19, 239, 463, 686, 914, 1150, 1392]\n",
      "Shift [20, 240, 464, 687, 915, 1151, 1393]\n"
     ]
    }
   ],
   "source": [
    "root_path = '/Users/yiminglin/Documents/Codebase/Pdf_reverse'\n",
    "tested_paths = []\n",
    "tested_paths.append(root_path + '/data/raw/complaints & use of force/Champaign IL Police Complaints/Investigations_Redacted.pdf')\n",
    "tested_paths.append(root_path + '/data/raw/complaints & use of force/UIUC PD Use of Force/22-274.releasable.pdf')\n",
    "tested_paths.append(root_path + '/data/raw/certification/CT/DecertifiedOfficersRev_9622 Emilie Munson.pdf')\n",
    "tested_paths.append(root_path + '/data/raw/certification/IA/Active_Employment.pdf')\n",
    "tested_paths.append(root_path + '/data/raw/certification/MT/RptEmpRstrDetail Active.pdf')\n",
    "tested_paths.append(root_path + '/data/raw/certification/VT/Invisible Institue Report.pdf')\n",
    "\n",
    "tested_id = 3 #starting from 0\n",
    "\n",
    "path = tested_paths[tested_id]\n",
    "extracted_path = get_extracted_path(path)\n",
    "out_path = get_relative_location_path(extracted_path)\n",
    "key_path = get_key_path(extracted_path)\n",
    "phrases = read_dict(out_path)\n",
    "\n",
    "#print(key_path)\n",
    "true_keys = read_file(key_path)\n",
    "\n",
    "\n",
    "\n",
    "for key in true_keys:\n",
    "    if(key in phrases):\n",
    "        print(key, phrases[key])"
   ]
  },
  {
   "cell_type": "markdown",
   "metadata": {},
   "source": [
    "## Observation from Active_Employment\n",
    "\n",
    "- For all true keys, they are perfectly aligned (same frequencies, and same delta)"
   ]
  },
  {
   "cell_type": "code",
   "execution_count": 24,
   "metadata": {},
   "outputs": [
    {
     "name": "stdout",
     "output_type": "stream",
     "text": [
      "/Users/yiminglin/Documents/Codebase/Pdf_reverse/data/extracted/certification/MT/RptEmpRstrDetail Active_relative_location.csv\n",
      "Name [13, 252, 491, 734, 979, 1221, 1465]\n",
      "I.D. [14, 253, 492, 735, 980, 1222, 1466]\n",
      "Sex [15, 254, 493, 736, 981, 1223, 1467]\n",
      "Birth Date [16, 255, 494, 737, 982, 1224, 1468]\n",
      "Age [17, 256, 495, 738, 983, 1225, 1469]\n",
      "Employee Type [18, 257, 496, 739, 984, 1226, 1470]\n",
      "Instructor [20, 259, 498, 741, 986, 1228, 1472]\n",
      "Supervisor [21, 260, 499, 742, 987, 1229, 1473]\n"
     ]
    }
   ],
   "source": [
    "root_path = '/Users/yiminglin/Documents/Codebase/Pdf_reverse'\n",
    "tested_paths = []\n",
    "tested_paths.append(root_path + '/data/raw/complaints & use of force/Champaign IL Police Complaints/Investigations_Redacted.pdf')\n",
    "tested_paths.append(root_path + '/data/raw/complaints & use of force/UIUC PD Use of Force/22-274.releasable.pdf')\n",
    "tested_paths.append(root_path + '/data/raw/certification/CT/DecertifiedOfficersRev_9622 Emilie Munson.pdf')\n",
    "tested_paths.append(root_path + '/data/raw/certification/IA/Active_Employment.pdf')\n",
    "tested_paths.append(root_path + '/data/raw/certification/MT/RptEmpRstrDetail Active.pdf')\n",
    "tested_paths.append(root_path + '/data/raw/certification/VT/Invisible Institue Report.pdf')\n",
    "\n",
    "tested_id = 4 #starting from 0\n",
    "\n",
    "path = tested_paths[tested_id]\n",
    "extracted_path = get_extracted_path(path)\n",
    "out_path = get_relative_location_path(extracted_path)\n",
    "key_path = get_key_path(extracted_path)\n",
    "phrases = read_dict(out_path)\n",
    "\n",
    "#print(key_path)\n",
    "true_keys = read_file(key_path)\n",
    "\n",
    "\n",
    "\n",
    "for key in true_keys:\n",
    "    if(key in phrases):\n",
    "        print(key, phrases[key])"
   ]
  },
  {
   "cell_type": "markdown",
   "metadata": {},
   "source": [
    "## Observation\n",
    "\n",
    "- For all true keys, they are perfectly aligned (same frequencies, and same delta)"
   ]
  },
  {
   "cell_type": "code",
   "execution_count": 25,
   "metadata": {},
   "outputs": [
    {
     "name": "stdout",
     "output_type": "stream",
     "text": [
      "/Users/yiminglin/Documents/Codebase/Pdf_reverse/data/extracted/certification/VT/Invisible Institue Report_relative_location.csv\n",
      "Date [16, 45, 66, 85, 104, 121, 135, 165, 184, 213, 241, 256, 275, 289, 308, 327, 355, 372, 402, 425, 444, 464, 478, 496, 525, 543, 562, 582, 601, 630, 654, 673, 687, 705, 719, 738]\n",
      "Status [17, 49, 70, 89, 108, 125, 139, 169, 188, 214, 245, 260, 279, 293, 312, 331, 356, 376, 403, 429, 448, 468, 482, 500, 526, 547, 566, 586, 605, 631, 658, 677, 691, 709, 723, 742]\n",
      "Certified [18, 24, 215, 221, 357, 363, 404, 410, 527, 533, 632, 638]\n",
      "Expires [19, 216, 358, 405, 528, 633]\n",
      "Probation [20, 217, 359, 406, 529, 634]\n",
      "Cert # [21, 218, 360, 407, 530, 635]\n"
     ]
    }
   ],
   "source": [
    "root_path = '/Users/yiminglin/Documents/Codebase/Pdf_reverse'\n",
    "tested_paths = []\n",
    "tested_paths.append(root_path + '/data/raw/complaints & use of force/Champaign IL Police Complaints/Investigations_Redacted.pdf')\n",
    "tested_paths.append(root_path + '/data/raw/complaints & use of force/UIUC PD Use of Force/22-274.releasable.pdf')\n",
    "tested_paths.append(root_path + '/data/raw/certification/CT/DecertifiedOfficersRev_9622 Emilie Munson.pdf')\n",
    "tested_paths.append(root_path + '/data/raw/certification/IA/Active_Employment.pdf')\n",
    "tested_paths.append(root_path + '/data/raw/certification/MT/RptEmpRstrDetail Active.pdf')\n",
    "tested_paths.append(root_path + '/data/raw/certification/VT/Invisible Institue Report.pdf')\n",
    "\n",
    "tested_id = 5 #starting from 0\n",
    "\n",
    "path = tested_paths[tested_id]\n",
    "extracted_path = get_extracted_path(path)\n",
    "out_path = get_relative_location_path(extracted_path)\n",
    "key_path = get_key_path(extracted_path)\n",
    "phrases = read_dict(out_path)\n",
    "\n",
    "#print(key_path)\n",
    "true_keys = read_file(key_path)\n",
    "\n",
    "\n",
    "\n",
    "for key in true_keys:\n",
    "    if(key in phrases):\n",
    "        print(key, phrases[key])"
   ]
  },
  {
   "cell_type": "markdown",
   "metadata": {},
   "source": [
    "## Observation\n",
    "\n",
    "- For keys appearing once per record, they are perfectly aligned (same frequencies, and same delta)\n",
    "- In one record, different keys can share the same name \n",
    "  -  Keys with the same entity type in multiple sub-record (e.g., date, status, certified)"
   ]
  }
 ],
 "metadata": {
  "kernelspec": {
   "display_name": "base",
   "language": "python",
   "name": "python3"
  },
  "language_info": {
   "codemirror_mode": {
    "name": "ipython",
    "version": 3
   },
   "file_extension": ".py",
   "mimetype": "text/x-python",
   "name": "python",
   "nbconvert_exporter": "python",
   "pygments_lexer": "ipython3",
   "version": "3.9.7"
  }
 },
 "nbformat": 4,
 "nbformat_minor": 2
}
